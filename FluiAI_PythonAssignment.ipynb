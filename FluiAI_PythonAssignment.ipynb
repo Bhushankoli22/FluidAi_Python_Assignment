{
 "cells": [
  {
   "cell_type": "markdown",
   "metadata": {
    "id": "SrdkvoKon66d"
   },
   "source": [
    "### Here I would be using GPT4All model to extract keyfeatures from pdf . So, First we need to download the offline model from huggingface website, I had uploaded that model to my google drive, will use it in colab."
   ]
  },
  {
   "cell_type": "code",
   "execution_count": 2,
   "metadata": {
    "colab": {
     "base_uri": "https://localhost:8080/",
     "height": 304
    },
    "executionInfo": {
     "elapsed": 121778,
     "status": "error",
     "timestamp": 1742491169191,
     "user": {
      "displayName": "Bhushan Koli",
      "userId": "08044787241341356487"
     },
     "user_tz": -330
    },
    "id": "5A-cmX0tcmdN",
    "outputId": "8dc28639-5415-4a4d-82e8-886a708174f0"
   },
   "outputs": [],
   "source": [
    "# from google.colab import drive\n",
    "# drive.mount('/content/drive')"
   ]
  },
  {
   "cell_type": "markdown",
   "metadata": {
    "id": "bK1COAKtoO9c"
   },
   "source": [
    "### Unzip model"
   ]
  },
  {
   "cell_type": "code",
   "execution_count": null,
   "metadata": {
    "colab": {
     "base_uri": "https://localhost:8080/"
    },
    "executionInfo": {
     "elapsed": 150785,
     "status": "ok",
     "timestamp": 1742491461672,
     "user": {
      "displayName": "Bhushan Koli",
      "userId": "08044787241341356487"
     },
     "user_tz": -330
    },
    "id": "DsnyiUOXodfr",
    "outputId": "c8ebd285-4171-4473-ad2b-ad19bf211d52"
   },
   "outputs": [
    {
     "name": "stdout",
     "output_type": "stream",
     "text": [
      "Archive:  /content/drive/MyDrive/GPT4All_Models/mistral-7b-instruct-v0.2.Q5_K_M.zip\n",
      "  inflating: /content/GPT4All_Models/mistral-7b-instruct-v0.2.Q5_K_M.gguf  \n"
     ]
    }
   ],
   "source": [
    "!unzip \"/content/drive/MyDrive/GPT4All_Models/mistral-7b-instruct-v0.2.Q5_K_M.zip\" -d \"/content/GPT4All_Models\"\n"
   ]
  },
  {
   "cell_type": "markdown",
   "metadata": {
    "id": "Eb2EeeYSoYWD"
   },
   "source": [
    "### Load our model and process the pdf file to extract data from it and get the desired output."
   ]
  },
  {
   "cell_type": "code",
   "execution_count": null,
   "metadata": {
    "colab": {
     "base_uri": "https://localhost:8080/"
    },
    "executionInfo": {
     "elapsed": 13,
     "status": "ok",
     "timestamp": 1742492077877,
     "user": {
      "displayName": "Bhushan Koli",
      "userId": "08044787241341356487"
     },
     "user_tz": -330
    },
    "id": "HWXp9zVyonh7",
    "outputId": "737834dd-3150-4fe0-b47c-ddeaa77638c8"
   },
   "outputs": [
    {
     "name": "stdout",
     "output_type": "stream",
     "text": [
      "['mistral-7b-instruct-v0.2.Q5_K_M.gguf']\n"
     ]
    }
   ],
   "source": [
    "import os\n",
    "\n",
    "MODEL_PATH = \"/content/GPT4All_Models/\"\n",
    "\n",
    "# List files in the directory\n",
    "print(os.listdir(MODEL_PATH))\n"
   ]
  },
  {
   "cell_type": "markdown",
   "metadata": {
    "id": "L9Wr4bCrooB8"
   },
   "source": []
  },
  {
   "cell_type": "markdown",
   "metadata": {
    "id": "S82vKjX4n3uC"
   },
   "source": [
    "### Load model"
   ]
  },
  {
   "cell_type": "code",
   "execution_count": null,
   "metadata": {
    "colab": {
     "base_uri": "https://localhost:8080/"
    },
    "executionInfo": {
     "elapsed": 11638,
     "status": "ok",
     "timestamp": 1742492204602,
     "user": {
      "displayName": "Bhushan Koli",
      "userId": "08044787241341356487"
     },
     "user_tz": -330
    },
    "id": "Wy76_p6koLGl",
    "outputId": "8d4a1684-4dc9-40f6-887b-ed25cf71641e"
   },
   "outputs": [
    {
     "name": "stdout",
     "output_type": "stream",
     "text": [
      "Collecting gpt4all\n",
      "  Downloading gpt4all-2.8.2-py3-none-manylinux1_x86_64.whl.metadata (4.8 kB)\n",
      "Requirement already satisfied: requests in /usr/local/lib/python3.11/dist-packages (from gpt4all) (2.32.3)\n",
      "Requirement already satisfied: tqdm in /usr/local/lib/python3.11/dist-packages (from gpt4all) (4.67.1)\n",
      "Requirement already satisfied: charset-normalizer<4,>=2 in /usr/local/lib/python3.11/dist-packages (from requests->gpt4all) (3.4.1)\n",
      "Requirement already satisfied: idna<4,>=2.5 in /usr/local/lib/python3.11/dist-packages (from requests->gpt4all) (3.10)\n",
      "Requirement already satisfied: urllib3<3,>=1.21.1 in /usr/local/lib/python3.11/dist-packages (from requests->gpt4all) (2.3.0)\n",
      "Requirement already satisfied: certifi>=2017.4.17 in /usr/local/lib/python3.11/dist-packages (from requests->gpt4all) (2025.1.31)\n",
      "Downloading gpt4all-2.8.2-py3-none-manylinux1_x86_64.whl (121.6 MB)\n",
      "\u001b[2K   \u001b[90m━━━━━━━━━━━━━━━━━━━━━━━━━━━━━━━━━━━━━━━━\u001b[0m \u001b[32m121.6/121.6 MB\u001b[0m \u001b[31m6.5 MB/s\u001b[0m eta \u001b[36m0:00:00\u001b[0m\n",
      "\u001b[?25hInstalling collected packages: gpt4all\n",
      "Successfully installed gpt4all-2.8.2\n"
     ]
    }
   ],
   "source": [
    "!pip install gpt4all"
   ]
  },
  {
   "cell_type": "code",
   "execution_count": null,
   "metadata": {
    "colab": {
     "base_uri": "https://localhost:8080/"
    },
    "executionInfo": {
     "elapsed": 31614,
     "status": "ok",
     "timestamp": 1742492263683,
     "user": {
      "displayName": "Bhushan Koli",
      "userId": "08044787241341356487"
     },
     "user_tz": -330
    },
    "id": "DT1d9-_JoAHD",
    "outputId": "e239cff4-d204-4472-9d25-aefdac432c34"
   },
   "outputs": [
    {
     "name": "stdout",
     "output_type": "stream",
     "text": [
      "✅ Model loaded successfully!\n"
     ]
    }
   ],
   "source": [
    "from gpt4all import GPT4All\n",
    "\n",
    "MODEL_FILE = \"/content/GPT4All_Models/mistral-7b-instruct-v0.2.Q5_K_M.gguf\"\n",
    "\n",
    "# Load the model\n",
    "model = GPT4All(MODEL_FILE)\n",
    "print(\"✅ Model loaded successfully!\")\n"
   ]
  },
  {
   "cell_type": "markdown",
   "metadata": {
    "id": "kVGBc8VvpMv-"
   },
   "source": [
    "### Give PDF path"
   ]
  },
  {
   "cell_type": "code",
   "execution_count": 9,
   "metadata": {
    "executionInfo": {
     "elapsed": 15,
     "status": "ok",
     "timestamp": 1742493812475,
     "user": {
      "displayName": "Bhushan Koli",
      "userId": "08044787241341356487"
     },
     "user_tz": -330
    },
    "id": "IML_aLnVoEBY"
   },
   "outputs": [],
   "source": [
    "PDF_PATH = \"/content/drive/MyDrive/GPT4All_Models/Fluid AI MAil PDF (1).pdf\"\n"
   ]
  },
  {
   "cell_type": "code",
   "execution_count": 10,
   "metadata": {
    "colab": {
     "base_uri": "https://localhost:8080/"
    },
    "executionInfo": {
     "elapsed": 12283,
     "status": "ok",
     "timestamp": 1742493956897,
     "user": {
      "displayName": "Bhushan Koli",
      "userId": "08044787241341356487"
     },
     "user_tz": -330
    },
    "id": "Cic-NP_9u26I",
    "outputId": "a803e700-be9c-483e-f4e4-2311ec238d4c"
   },
   "outputs": [
    {
     "name": "stdout",
     "output_type": "stream",
     "text": [
      "Collecting fitz\n",
      "  Downloading fitz-0.0.1.dev2-py2.py3-none-any.whl.metadata (816 bytes)\n",
      "Collecting configobj (from fitz)\n",
      "  Downloading configobj-5.0.9-py2.py3-none-any.whl.metadata (3.2 kB)\n",
      "Collecting configparser (from fitz)\n",
      "  Downloading configparser-7.2.0-py3-none-any.whl.metadata (5.5 kB)\n",
      "Requirement already satisfied: httplib2 in /usr/local/lib/python3.11/dist-packages (from fitz) (0.22.0)\n",
      "Requirement already satisfied: nibabel in /usr/local/lib/python3.11/dist-packages (from fitz) (5.3.2)\n",
      "Collecting nipype (from fitz)\n",
      "  Downloading nipype-1.10.0-py3-none-any.whl.metadata (7.1 kB)\n",
      "Requirement already satisfied: numpy in /usr/local/lib/python3.11/dist-packages (from fitz) (2.0.2)\n",
      "Requirement already satisfied: pandas in /usr/local/lib/python3.11/dist-packages (from fitz) (2.2.2)\n",
      "Collecting pyxnat (from fitz)\n",
      "  Downloading pyxnat-1.6.3-py3-none-any.whl.metadata (5.4 kB)\n",
      "Requirement already satisfied: scipy in /usr/local/lib/python3.11/dist-packages (from fitz) (1.14.1)\n",
      "Requirement already satisfied: pyparsing!=3.0.0,!=3.0.1,!=3.0.2,!=3.0.3,<4,>=2.4.2 in /usr/local/lib/python3.11/dist-packages (from httplib2->fitz) (3.2.1)\n",
      "Requirement already satisfied: importlib-resources>=5.12 in /usr/local/lib/python3.11/dist-packages (from nibabel->fitz) (6.5.2)\n",
      "Requirement already satisfied: packaging>=20 in /usr/local/lib/python3.11/dist-packages (from nibabel->fitz) (24.2)\n",
      "Requirement already satisfied: typing-extensions>=4.6 in /usr/local/lib/python3.11/dist-packages (from nibabel->fitz) (4.12.2)\n",
      "Requirement already satisfied: click>=6.6.0 in /usr/local/lib/python3.11/dist-packages (from nipype->fitz) (8.1.8)\n",
      "Requirement already satisfied: networkx>=2.5 in /usr/local/lib/python3.11/dist-packages (from nipype->fitz) (3.4.2)\n",
      "Collecting prov>=1.5.2 (from nipype->fitz)\n",
      "  Downloading prov-2.0.1-py3-none-any.whl.metadata (3.6 kB)\n",
      "Requirement already satisfied: pydot>=1.2.3 in /usr/local/lib/python3.11/dist-packages (from nipype->fitz) (3.0.4)\n",
      "Requirement already satisfied: python-dateutil>=2.2 in /usr/local/lib/python3.11/dist-packages (from nipype->fitz) (2.8.2)\n",
      "Collecting rdflib>=5.0.0 (from nipype->fitz)\n",
      "  Downloading rdflib-7.1.3-py3-none-any.whl.metadata (11 kB)\n",
      "Requirement already satisfied: simplejson>=3.8.0 in /usr/local/lib/python3.11/dist-packages (from nipype->fitz) (3.20.1)\n",
      "Collecting traits>=6.2 (from nipype->fitz)\n",
      "  Downloading traits-7.0.2-cp311-cp311-manylinux_2_5_x86_64.manylinux1_x86_64.manylinux_2_17_x86_64.manylinux2014_x86_64.whl.metadata (4.8 kB)\n",
      "Requirement already satisfied: filelock>=3.0.0 in /usr/local/lib/python3.11/dist-packages (from nipype->fitz) (3.18.0)\n",
      "Collecting acres (from nipype->fitz)\n",
      "  Downloading acres-0.3.0-py3-none-any.whl.metadata (5.5 kB)\n",
      "Collecting etelemetry>=0.3.1 (from nipype->fitz)\n",
      "  Downloading etelemetry-0.3.1-py3-none-any.whl.metadata (3.2 kB)\n",
      "Collecting looseversion!=1.2 (from nipype->fitz)\n",
      "  Downloading looseversion-1.3.0-py2.py3-none-any.whl.metadata (4.6 kB)\n",
      "Collecting puremagic (from nipype->fitz)\n",
      "  Downloading puremagic-1.28-py3-none-any.whl.metadata (5.8 kB)\n",
      "Requirement already satisfied: pytz>=2020.1 in /usr/local/lib/python3.11/dist-packages (from pandas->fitz) (2025.1)\n",
      "Requirement already satisfied: tzdata>=2022.7 in /usr/local/lib/python3.11/dist-packages (from pandas->fitz) (2025.1)\n",
      "Requirement already satisfied: lxml>=4.3 in /usr/local/lib/python3.11/dist-packages (from pyxnat->fitz) (5.3.1)\n",
      "Requirement already satisfied: requests>=2.20 in /usr/local/lib/python3.11/dist-packages (from pyxnat->fitz) (2.32.3)\n",
      "Requirement already satisfied: pathlib>=1.0 in /usr/local/lib/python3.11/dist-packages (from pyxnat->fitz) (1.0.1)\n",
      "Collecting ci-info>=0.2 (from etelemetry>=0.3.1->nipype->fitz)\n",
      "  Downloading ci_info-0.3.0-py3-none-any.whl.metadata (6.1 kB)\n",
      "Collecting rdflib>=5.0.0 (from nipype->fitz)\n",
      "  Downloading rdflib-6.3.2-py3-none-any.whl.metadata (11 kB)\n",
      "Requirement already satisfied: six>=1.5 in /usr/local/lib/python3.11/dist-packages (from python-dateutil>=2.2->nipype->fitz) (1.17.0)\n",
      "Collecting isodate<0.7.0,>=0.6.0 (from rdflib>=5.0.0->nipype->fitz)\n",
      "  Downloading isodate-0.6.1-py2.py3-none-any.whl.metadata (9.6 kB)\n",
      "Requirement already satisfied: charset-normalizer<4,>=2 in /usr/local/lib/python3.11/dist-packages (from requests>=2.20->pyxnat->fitz) (3.4.1)\n",
      "Requirement already satisfied: idna<4,>=2.5 in /usr/local/lib/python3.11/dist-packages (from requests>=2.20->pyxnat->fitz) (3.10)\n",
      "Requirement already satisfied: urllib3<3,>=1.21.1 in /usr/local/lib/python3.11/dist-packages (from requests>=2.20->pyxnat->fitz) (2.3.0)\n",
      "Requirement already satisfied: certifi>=2017.4.17 in /usr/local/lib/python3.11/dist-packages (from requests>=2.20->pyxnat->fitz) (2025.1.31)\n",
      "Downloading fitz-0.0.1.dev2-py2.py3-none-any.whl (20 kB)\n",
      "Downloading configobj-5.0.9-py2.py3-none-any.whl (35 kB)\n",
      "Downloading configparser-7.2.0-py3-none-any.whl (17 kB)\n",
      "Downloading nipype-1.10.0-py3-none-any.whl (3.2 MB)\n",
      "\u001b[2K   \u001b[90m━━━━━━━━━━━━━━━━━━━━━━━━━━━━━━━━━━━━━━━━\u001b[0m \u001b[32m3.2/3.2 MB\u001b[0m \u001b[31m27.2 MB/s\u001b[0m eta \u001b[36m0:00:00\u001b[0m\n",
      "\u001b[?25hDownloading pyxnat-1.6.3-py3-none-any.whl (95 kB)\n",
      "\u001b[2K   \u001b[90m━━━━━━━━━━━━━━━━━━━━━━━━━━━━━━━━━━━━━━━━\u001b[0m \u001b[32m95.4/95.4 kB\u001b[0m \u001b[31m6.6 MB/s\u001b[0m eta \u001b[36m0:00:00\u001b[0m\n",
      "\u001b[?25hDownloading etelemetry-0.3.1-py3-none-any.whl (6.4 kB)\n",
      "Downloading looseversion-1.3.0-py2.py3-none-any.whl (8.2 kB)\n",
      "Downloading prov-2.0.1-py3-none-any.whl (421 kB)\n",
      "\u001b[2K   \u001b[90m━━━━━━━━━━━━━━━━━━━━━━━━━━━━━━━━━━━━━━━━\u001b[0m \u001b[32m421.5/421.5 kB\u001b[0m \u001b[31m21.1 MB/s\u001b[0m eta \u001b[36m0:00:00\u001b[0m\n",
      "\u001b[?25hDownloading rdflib-6.3.2-py3-none-any.whl (528 kB)\n",
      "\u001b[2K   \u001b[90m━━━━━━━━━━━━━━━━━━━━━━━━━━━━━━━━━━━━━━━━\u001b[0m \u001b[32m528.1/528.1 kB\u001b[0m \u001b[31m26.5 MB/s\u001b[0m eta \u001b[36m0:00:00\u001b[0m\n",
      "\u001b[?25hDownloading traits-7.0.2-cp311-cp311-manylinux_2_5_x86_64.manylinux1_x86_64.manylinux_2_17_x86_64.manylinux2014_x86_64.whl (5.1 MB)\n",
      "\u001b[2K   \u001b[90m━━━━━━━━━━━━━━━━━━━━━━━━━━━━━━━━━━━━━━━━\u001b[0m \u001b[32m5.1/5.1 MB\u001b[0m \u001b[31m49.0 MB/s\u001b[0m eta \u001b[36m0:00:00\u001b[0m\n",
      "\u001b[?25hDownloading acres-0.3.0-py3-none-any.whl (10 kB)\n",
      "Downloading puremagic-1.28-py3-none-any.whl (43 kB)\n",
      "\u001b[2K   \u001b[90m━━━━━━━━━━━━━━━━━━━━━━━━━━━━━━━━━━━━━━━━\u001b[0m \u001b[32m43.2/43.2 kB\u001b[0m \u001b[31m2.5 MB/s\u001b[0m eta \u001b[36m0:00:00\u001b[0m\n",
      "\u001b[?25hDownloading ci_info-0.3.0-py3-none-any.whl (7.8 kB)\n",
      "Downloading isodate-0.6.1-py2.py3-none-any.whl (41 kB)\n",
      "\u001b[2K   \u001b[90m━━━━━━━━━━━━━━━━━━━━━━━━━━━━━━━━━━━━━━━━\u001b[0m \u001b[32m41.7/41.7 kB\u001b[0m \u001b[31m2.5 MB/s\u001b[0m eta \u001b[36m0:00:00\u001b[0m\n",
      "\u001b[?25hInstalling collected packages: puremagic, looseversion, traits, isodate, configparser, configobj, ci-info, acres, rdflib, pyxnat, etelemetry, prov, nipype, fitz\n",
      "Successfully installed acres-0.3.0 ci-info-0.3.0 configobj-5.0.9 configparser-7.2.0 etelemetry-0.3.1 fitz-0.0.1.dev2 isodate-0.6.1 looseversion-1.3.0 nipype-1.10.0 prov-2.0.1 puremagic-1.28 pyxnat-1.6.3 rdflib-6.3.2 traits-7.0.2\n"
     ]
    }
   ],
   "source": [
    "!pip install fitz"
   ]
  },
  {
   "cell_type": "code",
   "execution_count": 13,
   "metadata": {
    "colab": {
     "base_uri": "https://localhost:8080/"
    },
    "executionInfo": {
     "elapsed": 10079,
     "status": "ok",
     "timestamp": 1742494506488,
     "user": {
      "displayName": "Bhushan Koli",
      "userId": "08044787241341356487"
     },
     "user_tz": -330
    },
    "id": "PvM7kdEyw4h2",
    "outputId": "7fe30910-6358-484a-eb74-19edcdba984c"
   },
   "outputs": [
    {
     "name": "stdout",
     "output_type": "stream",
     "text": [
      "Collecting PyMuPDF\n",
      "  Downloading pymupdf-1.25.4-cp39-abi3-manylinux2014_x86_64.manylinux_2_17_x86_64.whl.metadata (3.4 kB)\n",
      "Downloading pymupdf-1.25.4-cp39-abi3-manylinux2014_x86_64.manylinux_2_17_x86_64.whl (20.0 MB)\n",
      "\u001b[2K   \u001b[90m━━━━━━━━━━━━━━━━━━━━━━━━━━━━━━━━━━━━━━━━\u001b[0m \u001b[32m20.0/20.0 MB\u001b[0m \u001b[31m46.9 MB/s\u001b[0m eta \u001b[36m0:00:00\u001b[0m\n",
      "\u001b[?25hInstalling collected packages: PyMuPDF\n",
      "Successfully installed PyMuPDF-1.25.4\n"
     ]
    }
   ],
   "source": [
    "!pip install PyMuPDF"
   ]
  },
  {
   "cell_type": "markdown",
   "metadata": {
    "id": "jDfn7J03ALBV"
   },
   "source": [
    "### Fucntion to extract text from pdf"
   ]
  },
  {
   "cell_type": "code",
   "execution_count": 14,
   "metadata": {
    "colab": {
     "base_uri": "https://localhost:8080/"
    },
    "executionInfo": {
     "elapsed": 891,
     "status": "ok",
     "timestamp": 1742494652570,
     "user": {
      "displayName": "Bhushan Koli",
      "userId": "08044787241341356487"
     },
     "user_tz": -330
    },
    "id": "oqBc2ehLuYU5",
    "outputId": "1ff627f7-2390-457f-b531-8086a40580ea"
   },
   "outputs": [
    {
     "name": "stdout",
     "output_type": "stream",
     "text": [
      "✅ PDF text extracted successfully!\n"
     ]
    }
   ],
   "source": [
    "import fitz  # PyMuPDF for PDF text extraction\n",
    "\n",
    "def extract_text_from_pdf(pdf_path):\n",
    "    \"\"\"\n",
    "    Extracts text from a given PDF file.\n",
    "    Args:\n",
    "        pdf_path (str): Path to the PDF file.\n",
    "    Returns:\n",
    "        str: Extracted text from the PDF.\n",
    "    \"\"\"\n",
    "    doc = fitz.open(pdf_path)  # Open the PDF file\n",
    "    text = \"\"  # Initialize empty string for storing text\n",
    "    for page in doc:\n",
    "        text += page.get_text(\"text\") + \"\\n\"  # Extract text from each page\n",
    "    return text\n",
    "\n",
    "# Extract text\n",
    "extracted_text = extract_text_from_pdf(PDF_PATH)\n",
    "print(\"✅ PDF text extracted successfully!\")\n"
   ]
  },
  {
   "cell_type": "markdown",
   "metadata": {
    "id": "10qu0NJuAmt6"
   },
   "source": [
    "### Clean the text"
   ]
  },
  {
   "cell_type": "code",
   "execution_count": 15,
   "metadata": {
    "colab": {
     "base_uri": "https://localhost:8080/"
    },
    "executionInfo": {
     "elapsed": 53,
     "status": "ok",
     "timestamp": 1742494865139,
     "user": {
      "displayName": "Bhushan Koli",
      "userId": "08044787241341356487"
     },
     "user_tz": -330
    },
    "id": "frgF4n59wanw",
    "outputId": "2d8e84bb-7212-4884-df41-5da48ed0882f"
   },
   "outputs": [
    {
     "name": "stdout",
     "output_type": "stream",
     "text": [
      "✅ PDF text cleaned successfully!\n"
     ]
    }
   ],
   "source": [
    "import re  # Regular expressions for text cleaning\n",
    "\n",
    "def clean_text(text):\n",
    "    \"\"\"\n",
    "    Cleans extracted text by removing extra spaces and unwanted characters.\n",
    "    Args:\n",
    "        text (str): Raw extracted text.\n",
    "    Returns:\n",
    "        str: Cleaned text.\n",
    "    \"\"\"\n",
    "    text = re.sub(r'\\s+', ' ', text)  # Remove extra whitespace\n",
    "    text = re.sub(r'[^\\x00-\\x7F]+', ' ', text)  # Remove non-ASCII characters\n",
    "    return text.strip()\n",
    "\n",
    "# Clean extracted text\n",
    "cleaned_text = clean_text(extracted_text)\n",
    "print(\"✅ PDF text cleaned successfully!\")\n"
   ]
  },
  {
   "cell_type": "markdown",
   "metadata": {
    "id": "CQXbl2DAA9Kp"
   },
   "source": [
    "### Now let's analyze the text within it"
   ]
  },
  {
   "cell_type": "code",
   "execution_count": 16,
   "metadata": {
    "colab": {
     "base_uri": "https://localhost:8080/"
    },
    "executionInfo": {
     "elapsed": 662302,
     "status": "ok",
     "timestamp": 1742495544275,
     "user": {
      "displayName": "Bhushan Koli",
      "userId": "08044787241341356487"
     },
     "user_tz": -330
    },
    "id": "MS-yVmWIyZUP",
    "outputId": "35f8d11e-35e4-4100-ebe7-1a5850a961a2"
   },
   "outputs": [
    {
     "name": "stdout",
     "output_type": "stream",
     "text": [
      "\n",
      "🔹 Extracted Insights:\n",
      " The company report does not contain sufficient financial information to extract key insights for future growth prospects, key changes in business, or material impacts on growth. Instead, it focuses on the interview process and requirements for potential candidates joining Fluid AI. Therefore, no specific financial insights can be derived from this text.\n"
     ]
    }
   ],
   "source": [
    "def analyze_text_with_gpt4all(text):\n",
    "    \"\"\"\n",
    "    Uses GPT4All (offline) to analyze and extract key financial insights.\n",
    "    Args:\n",
    "        text (str): Cleaned text from the PDF.\n",
    "    Returns:\n",
    "        str: AI-generated insights.\n",
    "    \"\"\"\n",
    "    model = GPT4All(MODEL_FILE)  # Load offline model\n",
    "    prompt = f\"\"\"\n",
    "    Extract key financial insights from the following company report:\n",
    "    {text}\n",
    "\n",
    "    Focus on:\n",
    "    - Future growth prospects\n",
    "    - Key changes in business\n",
    "    - Key triggers affecting next year’s earnings\n",
    "    - Material impacts on growth\n",
    "\n",
    "    Provide a structured summary.\n",
    "    \"\"\"\n",
    "    response = model.generate(prompt, max_tokens=500)  # Get AI-generated response\n",
    "    return response.strip()\n",
    "\n",
    "# Get insights from the offline model\n",
    "insights = analyze_text_with_gpt4all(cleaned_text)\n",
    "print(\"\\n🔹 Extracted Insights:\\n\", insights)\n"
   ]
  },
  {
   "cell_type": "code",
   "execution_count": 17,
   "metadata": {
    "colab": {
     "base_uri": "https://localhost:8080/"
    },
    "executionInfo": {
     "elapsed": 1054007,
     "status": "ok",
     "timestamp": 1742497107617,
     "user": {
      "displayName": "Bhushan Koli",
      "userId": "08044787241341356487"
     },
     "user_tz": -330
    },
    "id": "bE0O6FYhydcJ",
    "outputId": "72b59f20-b9bf-483f-ccdd-368c0fff241b"
   },
   "outputs": [
    {
     "name": "stdout",
     "output_type": "stream",
     "text": [
      "\n",
      "🔹 Extracted Insights:\n",
      " The company report is not directly providing any financial insights, but it does provide information about the interview process for potential candidates at Fluid AI. To extract key financial insights from this text, we would need to look for specific details related to the company's future growth prospects, changes in business, and triggers affecting next year’s earnings. However, since there is no such information provided, it is not possible to provide a structured summary with financial insights based on this report alone.\n",
      "    \n",
      "    Instead, we can focus on some of the key elements mentioned in the interview process that could potentially impact an individual's future career growth and earning potential at Fluid AI:\n",
      "\n",
      "1. Career goals: The company is interested in understanding both long-term and short-term professional aspirations of candidates to ensure alignment with their own business objectives. This suggests a focus on hiring individuals who are committed to growing within the organization and contributing to its success.\n",
      "2. Past work experience: Candidates are asked to summarize their past roles, responsibilities, accomplishments, and lessons learned. This indicates that the company values candidates with a strong track record of achievement and continuous learning.\n",
      "3. Challenges and overcoming them: Describing a significant challenge faced and how it was overcome is an essential part of the interview process. This demonstrates the candidate's problem-solving abilities, resilience, and adaptability – all important qualities for success in any organization.\n",
      "4. Technical skills: The interview process includes technical questions related to programming languages, AI/ML technologies, database management, API development, and more. These questions suggest a focus on hiring candidates with strong technical expertise who can contribute to the company's innovative projects and solutions.\n",
      "5. Work-life balance: Candidates are asked to share their approach to maintaining a balance between personal life and work responsibilities. This indicates that Fluid AI values employees who prioritize both aspects of their lives, ensuring long-term commitment and productivity.\n",
      "6. Project experience: The interview process includes questions about past projects and the most complex features implemented. This suggests a focus on hiring candidates with hands-on experience in delivering successful projects, demonstrating their ability to contribute to Fluid AI's growth initiatives.\n",
      "7. Communication skills: Effective communication is essential for success in any role, especially within a growing organization like Fluid AI. The interview process includes an email\n"
     ]
    }
   ],
   "source": [
    "def main():\n",
    "    extracted_text = extract_text_from_pdf(PDF_PATH)  # Step 1: Extract text\n",
    "    cleaned_text = clean_text(extracted_text)  # Step 2: Clean text\n",
    "    insights = analyze_text_with_gpt4all(cleaned_text)  # Step 3: Get insights\n",
    "    print(\"\\n🔹 Extracted Insights:\\n\", insights)\n",
    "\n",
    "# Run the pipeline\n",
    "main()\n"
   ]
  },
  {
   "cell_type": "code",
   "execution_count": null,
   "metadata": {
    "id": "5RmKHcXJ27e5"
   },
   "outputs": [],
   "source": []
  }
 ],
 "metadata": {
  "colab": {
   "authorship_tag": "ABX9TyN6osml3E4t3gfmn3kP8YB/",
   "mount_file_id": "1NOD4PO1xIgNDWhvadEQs_PEc8xJA20HL",
   "provenance": []
  },
  "kernelspec": {
   "display_name": "gputorch",
   "language": "python",
   "name": "python3"
  },
  "language_info": {
   "codemirror_mode": {
    "name": "ipython",
    "version": 3
   },
   "file_extension": ".py",
   "mimetype": "text/x-python",
   "name": "python",
   "nbconvert_exporter": "python",
   "pygments_lexer": "ipython3",
   "version": "3.10.14"
  }
 },
 "nbformat": 4,
 "nbformat_minor": 0
}
